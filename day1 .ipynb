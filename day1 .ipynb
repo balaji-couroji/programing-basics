{
  "nbformat": 4,
  "nbformat_minor": 0,
  "metadata": {
    "colab": {
      "provenance": [],
      "authorship_tag": "ABX9TyNemKUBPWuMbKVKnEL3bE8e",
      "include_colab_link": true
    },
    "kernelspec": {
      "name": "python3",
      "display_name": "Python 3"
    },
    "language_info": {
      "name": "python"
    }
  },
  "cells": [
    {
      "cell_type": "markdown",
      "metadata": {
        "id": "view-in-github",
        "colab_type": "text"
      },
      "source": [
        "<a href=\"https://colab.research.google.com/github/balaji-couroji/programing-basics/blob/main/day1%20.ipynb\" target=\"_parent\"><img src=\"https://colab.research.google.com/assets/colab-badge.svg\" alt=\"Open In Colab\"/></a>"
      ]
    },
    {
      "cell_type": "code",
      "execution_count": null,
      "metadata": {
        "colab": {
          "base_uri": "https://localhost:8080/"
        },
        "id": "D7M__bvfzS93",
        "outputId": "0d32c5a3-ad0b-433a-fdce-4f1af0333500"
      },
      "outputs": [
        {
          "output_type": "stream",
          "name": "stdout",
          "text": [
            "birth year2002\n",
            "23\n"
          ]
        }
      ],
      "source": [
        "year = int(input('birth year' ))\n",
        "age = 2025 - year\n",
        "print (age)"
      ]
    },
    {
      "cell_type": "code",
      "source": [
        "pound = float(input('what is your weight in pounds? '))\n",
        "kg = pound * 0.45\n",
        "print (kg)\n"
      ],
      "metadata": {
        "colab": {
          "base_uri": "https://localhost:8080/"
        },
        "id": "_5Xqv05TzVOO",
        "outputId": "7b18d59e-0122-4ca3-f82d-5e997959c98a"
      },
      "execution_count": null,
      "outputs": [
        {
          "output_type": "stream",
          "name": "stdout",
          "text": [
            "what is your weight in pounds? 186\n",
            "83.7\n"
          ]
        }
      ]
    },
    {
      "cell_type": "code",
      "source": [
        "import math\n",
        "print(math.ceil(2.9))"
      ],
      "metadata": {
        "colab": {
          "base_uri": "https://localhost:8080/"
        },
        "id": "eZ43JCY3enVb",
        "outputId": "0e1cbdf1-016b-426d-9058-fe8d79bb3dae"
      },
      "execution_count": null,
      "outputs": [
        {
          "output_type": "stream",
          "name": "stdout",
          "text": [
            "3\n"
          ]
        }
      ]
    },
    {
      "cell_type": "code",
      "source": [
        "price = 1000000\n",
        "credit = bool(input('do you have good credit?'))\n",
        "if credit:\n",
        "  downpayment = 0.1 * price\n",
        "  print(downpayment)\n",
        "else:\n",
        "  downpayment =0.2 * price\n",
        "  print(downpayment)\n",
        "\n",
        "\n",
        "\n"
      ],
      "metadata": {
        "colab": {
          "base_uri": "https://localhost:8080/"
        },
        "id": "eNiaIhkHfKbP",
        "outputId": "ce5a9fed-cf05-4925-b656-ba730de541df"
      },
      "execution_count": null,
      "outputs": [
        {
          "output_type": "stream",
          "name": "stdout",
          "text": [
            "do you have good credit?False\n",
            "100000.0\n"
          ]
        }
      ]
    },
    {
      "cell_type": "code",
      "source": [
        "price = 1000000\n",
        "credit = float(input('please enter your credit score'))\n",
        "if credit <=1000:\n",
        " if credit > 750:\n",
        "  downpayment = 0.1 * price\n",
        "  print(f'your downpayment would be {downpayment}')\n",
        " elif credit < 750:\n",
        "  downpayment =0.2 * price\n",
        "  print(f'your downpayment would be {downpayment}')\n",
        "else:\n",
        "  print( 'ivalid credit score, enter a valid credit score')\n",
        "\n"
      ],
      "metadata": {
        "colab": {
          "base_uri": "https://localhost:8080/"
        },
        "id": "IFcpYqnoi403",
        "outputId": "824352fe-e108-4a6e-f65b-e4fd6bd78783"
      },
      "execution_count": null,
      "outputs": [
        {
          "output_type": "stream",
          "name": "stdout",
          "text": [
            "please enter your credit score2000\n",
            "ivalid credit score, enter a valid credit score\n"
          ]
        }
      ]
    },
    {
      "cell_type": "code",
      "source": [
        "name = input('enter your name' )\n",
        "if len(name) < 3:\n",
        "  print('name should be atleast 3 charecters')\n",
        "elif len(name) > 50:\n",
        "  print('name can be maximum 50 charecters')\n",
        "else:\n",
        "  print ('name is  good')\n"
      ],
      "metadata": {
        "id": "fw13BPxenLkq"
      },
      "execution_count": null,
      "outputs": []
    },
    {
      "cell_type": "code",
      "source": [
        "weight = float(input('enter your weight'))\n",
        "x= input(' (L)bs or (k)g ')\n",
        "if x == 'l' or 'L':\n",
        "  weight = weight * 0.45\n",
        "  print(f'you are {weight} kg')\n",
        "elif x == 'k' or 'K':\n",
        "  weight = weight * 2.2\n",
        "  print(f'you are {weight} lbs')"
      ],
      "metadata": {
        "colab": {
          "base_uri": "https://localhost:8080/"
        },
        "id": "D1yG3CrGrQup",
        "outputId": "fa653373-3925-4cfc-c7b3-da97106209ea"
      },
      "execution_count": null,
      "outputs": [
        {
          "output_type": "stream",
          "name": "stdout",
          "text": [
            "enter your weight72\n",
            " (L)bs or (k)g k\n",
            "you are 32.4 kg\n"
          ]
        }
      ]
    },
    {
      "cell_type": "code",
      "source": [
        "secrect_number = 8\n",
        "count = 0\n",
        "limit = 3\n",
        "while count < 3:\n",
        " guess = int(input('guess '))\n",
        " count += 1\n",
        " if guess == secrect_number:\n",
        "  print('you won')\n",
        "  break\n",
        " else:\n",
        "  x= 3 - count\n",
        "  print(f'wrong guess, you have {x} trys left')\n",
        "print('game over')\n"
      ],
      "metadata": {
        "colab": {
          "base_uri": "https://localhost:8080/"
        },
        "id": "SYKFe0GihLCo",
        "outputId": "1b6c1b38-d240-4652-d997-f458d8065de0"
      },
      "execution_count": null,
      "outputs": [
        {
          "output_type": "stream",
          "name": "stdout",
          "text": [
            "guess 8\n",
            "you won\n",
            "game over\n"
          ]
        }
      ]
    },
    {
      "cell_type": "code",
      "source": [
        "print('welcome to the car game, if you want instructions enter \"help\" ')\n",
        "player_input = \"\"\n",
        "status = False\n",
        "while True:\n",
        " player_input = input('> ').upper()\n",
        " if player_input == 'HELP':\n",
        "  print('''instructions are as follows\n",
        "            start - starts the car\n",
        "            stop - stops the car\n",
        "            quit - to exit''')\n",
        " elif player_input == 'START':\n",
        "  if status:\n",
        "    print('car has already started')\n",
        "\n",
        "  else:\n",
        "    status = True\n",
        "    print( 'car has started')\n",
        "\n",
        " elif player_input == 'STOP':\n",
        "  if status == True:\n",
        "   print('car has stopped')\n",
        "   status = False\n",
        "  else:\n",
        "    print('the car has already stopped')\n",
        " elif player_input == 'QUIT':\n",
        "  print('game over')\n",
        "  break\n",
        " else:\n",
        "  print('i dont understand')\n",
        "\n"
      ],
      "metadata": {
        "id": "YkMKu3qjmZlb"
      },
      "execution_count": null,
      "outputs": []
    },
    {
      "cell_type": "code",
      "source": [
        "command = \" \"\n",
        "status = False\n",
        "while command:\n",
        "  command = input(\"> \").upper()\n",
        "  if command == \"START\":\n",
        "    if status:\n",
        "     print (\" the car has already started\")\n",
        "    else:\n",
        "      status = True\n",
        "      print (\" the car started\")\n",
        "  elif command == \"STOP\":\n",
        "    if not status:\n",
        "      print (\" the car has  already stopped\")\n",
        "    else:\n",
        "      status = False\n",
        "      print(\"the car has  stopped\")\n",
        "  elif command == \"QUIT\":\n",
        "    print(\"game over\")\n",
        "    break\n",
        "  else:\n",
        "    print('game over')\n",
        "\n"
      ],
      "metadata": {
        "colab": {
          "base_uri": "https://localhost:8080/"
        },
        "id": "h36qE1inv1vI",
        "outputId": "e1f50f6f-00e7-4e93-db3a-69156549b99e"
      },
      "execution_count": null,
      "outputs": [
        {
          "output_type": "stream",
          "name": "stdout",
          "text": [
            "> start\n",
            " the car started\n",
            "> start\n",
            " the car has already started\n",
            "> stop\n",
            "the car has  stopped\n",
            "> stop\n",
            " the car has  already stopped\n",
            "> quit\n",
            "game over\n"
          ]
        }
      ]
    },
    {
      "cell_type": "code",
      "source": [
        "prices= [10, 20, 30]\n",
        "total =0\n",
        "for price in prices:\n",
        "  total+= price\n",
        "print(total)\n",
        "\n",
        "\n",
        "\n"
      ],
      "metadata": {
        "colab": {
          "base_uri": "https://localhost:8080/"
        },
        "id": "LXkaQEzB5nbJ",
        "outputId": "38ace66e-e812-40e3-9825-854cff25f100"
      },
      "execution_count": null,
      "outputs": [
        {
          "output_type": "stream",
          "name": "stdout",
          "text": [
            "60\n"
          ]
        }
      ]
    },
    {
      "cell_type": "code",
      "source": [
        "name = [ 'balaji', 'sumanth', 'sreekar', 'manikanta' ]\n",
        "print(name[3:])"
      ],
      "metadata": {
        "colab": {
          "base_uri": "https://localhost:8080/"
        },
        "id": "SGImABi_9bhY",
        "outputId": "a1743c5e-de15-4399-d3c3-5c30384f0128"
      },
      "execution_count": null,
      "outputs": [
        {
          "output_type": "stream",
          "name": "stdout",
          "text": [
            "['manikanta']\n"
          ]
        }
      ]
    },
    {
      "cell_type": "code",
      "source": [
        "list= [1,2,3,4,5,6]\n",
        "max = list[0]\n",
        "for x in list:\n",
        "  if x>max:\n",
        "    max=x\n",
        "print (x)\n"
      ],
      "metadata": {
        "colab": {
          "base_uri": "https://localhost:8080/"
        },
        "id": "wgqsFJForLhj",
        "outputId": "1bd3fdc1-21f4-4b9a-c7fd-cdd0b6c10100"
      },
      "execution_count": null,
      "outputs": [
        {
          "output_type": "stream",
          "name": "stdout",
          "text": [
            "6\n"
          ]
        }
      ]
    },
    {
      "cell_type": "code",
      "source": [
        "matrix = [[1,2,3],[4,5,6],[7,8,9]]\n",
        "for row in matrix:\n",
        "  for x in row:\n",
        "    print(x)"
      ],
      "metadata": {
        "colab": {
          "base_uri": "https://localhost:8080/"
        },
        "id": "IuqmjOa9qss5",
        "outputId": "0d04906f-b1d7-4198-fad7-525d5dcdf6af"
      },
      "execution_count": null,
      "outputs": [
        {
          "output_type": "stream",
          "name": "stdout",
          "text": [
            "1\n",
            "2\n",
            "3\n",
            "4\n",
            "5\n",
            "6\n",
            "7\n",
            "8\n",
            "9\n"
          ]
        }
      ]
    },
    {
      "cell_type": "code",
      "source": [
        "numbers = [1,4,6,3,6,5]\n",
        "numbers.remove(3)\n",
        "print (numbers)"
      ],
      "metadata": {
        "colab": {
          "base_uri": "https://localhost:8080/"
        },
        "id": "OyZ0vAsEuLK5",
        "outputId": "d6b48b94-45b9-4d25-e037-9109af595d98"
      },
      "execution_count": null,
      "outputs": [
        {
          "output_type": "stream",
          "name": "stdout",
          "text": [
            "[1, 4, 6, 6, 5]\n"
          ]
        }
      ]
    },
    {
      "cell_type": "code",
      "source": [
        "numbers = [1,2,4,4,5,3,6,7,6]\n",
        "x= numbers[1]\n",
        "for y in numbers:\n",
        "   if y == x:\n",
        "    numbers.remove(x)\n",
        "    print(y)\n"
      ],
      "metadata": {
        "colab": {
          "base_uri": "https://localhost:8080/"
        },
        "id": "S-aNTYOTL32Q",
        "outputId": "97fcefd4-b342-4f3b-aca3-990d99b51104"
      },
      "execution_count": null,
      "outputs": [
        {
          "output_type": "stream",
          "name": "stdout",
          "text": [
            "1\n",
            "4\n",
            "5\n",
            "6\n",
            "6\n"
          ]
        }
      ]
    },
    {
      "cell_type": "code",
      "source": [
        "numbers = [1,2,4,4,5,3,6,7,6]\n",
        "x= []\n",
        "for number in numbers:\n",
        "  if number not in x:\n",
        "    x.append(number)\n",
        "print(x)"
      ],
      "metadata": {
        "colab": {
          "base_uri": "https://localhost:8080/"
        },
        "id": "WLW_CKnmNQTS",
        "outputId": "9aa19fcf-32d5-4662-d9a6-4dd3d900754c"
      },
      "execution_count": null,
      "outputs": [
        {
          "output_type": "stream",
          "name": "stdout",
          "text": [
            "[1, 2, 4, 5, 3, 6, 7]\n"
          ]
        }
      ]
    },
    {
      "cell_type": "code",
      "source": [
        "number  = input(\"enter your phone number \")\n",
        "dictionary = { \"1\": \"one\", \"2\": \"two\", \"3\": \"three\", \"4\": \"four\"}\n",
        "x= \"\"\n",
        "for num in number:\n",
        "  x= x + dictionary.get(num, \"!\") + \" \"\n",
        "print(x)"
      ],
      "metadata": {
        "colab": {
          "base_uri": "https://localhost:8080/",
          "height": 467
        },
        "id": "EW-gM-df22LU",
        "outputId": "a1d85daf-ac9d-4eee-dabd-5c4953612d66"
      },
      "execution_count": null,
      "outputs": [
        {
          "output_type": "error",
          "ename": "KeyboardInterrupt",
          "evalue": "Interrupted by user",
          "traceback": [
            "\u001b[0;31m---------------------------------------------------------------------------\u001b[0m",
            "\u001b[0;31mKeyboardInterrupt\u001b[0m                         Traceback (most recent call last)",
            "\u001b[0;32m/tmp/ipython-input-3996064554.py\u001b[0m in \u001b[0;36m<cell line: 0>\u001b[0;34m()\u001b[0m\n\u001b[0;32m----> 1\u001b[0;31m \u001b[0mnumber\u001b[0m  \u001b[0;34m=\u001b[0m \u001b[0minput\u001b[0m\u001b[0;34m(\u001b[0m\u001b[0;34m\"enter your phone number \"\u001b[0m\u001b[0;34m)\u001b[0m\u001b[0;34m\u001b[0m\u001b[0;34m\u001b[0m\u001b[0m\n\u001b[0m\u001b[1;32m      2\u001b[0m \u001b[0mdictionary\u001b[0m \u001b[0;34m=\u001b[0m \u001b[0;34m{\u001b[0m \u001b[0;34m\"1\"\u001b[0m\u001b[0;34m:\u001b[0m \u001b[0;34m\"one\"\u001b[0m\u001b[0;34m,\u001b[0m \u001b[0;34m\"2\"\u001b[0m\u001b[0;34m:\u001b[0m \u001b[0;34m\"two\"\u001b[0m\u001b[0;34m,\u001b[0m \u001b[0;34m\"3\"\u001b[0m\u001b[0;34m:\u001b[0m \u001b[0;34m\"three\"\u001b[0m\u001b[0;34m,\u001b[0m \u001b[0;34m\"4\"\u001b[0m\u001b[0;34m:\u001b[0m \u001b[0;34m\"four\"\u001b[0m\u001b[0;34m}\u001b[0m\u001b[0;34m\u001b[0m\u001b[0;34m\u001b[0m\u001b[0m\n\u001b[1;32m      3\u001b[0m \u001b[0mx\u001b[0m\u001b[0;34m=\u001b[0m \u001b[0;34m\"\"\u001b[0m\u001b[0;34m\u001b[0m\u001b[0;34m\u001b[0m\u001b[0m\n\u001b[1;32m      4\u001b[0m \u001b[0;32mfor\u001b[0m \u001b[0mnum\u001b[0m \u001b[0;32min\u001b[0m \u001b[0mnumber\u001b[0m\u001b[0;34m:\u001b[0m\u001b[0;34m\u001b[0m\u001b[0;34m\u001b[0m\u001b[0m\n\u001b[1;32m      5\u001b[0m   \u001b[0mx\u001b[0m\u001b[0;34m=\u001b[0m \u001b[0mx\u001b[0m \u001b[0;34m+\u001b[0m \u001b[0mdictionary\u001b[0m\u001b[0;34m.\u001b[0m\u001b[0mget\u001b[0m\u001b[0;34m(\u001b[0m\u001b[0mnum\u001b[0m\u001b[0;34m,\u001b[0m \u001b[0;34m\"!\"\u001b[0m\u001b[0;34m)\u001b[0m \u001b[0;34m+\u001b[0m \u001b[0;34m\" \"\u001b[0m\u001b[0;34m\u001b[0m\u001b[0;34m\u001b[0m\u001b[0m\n",
            "\u001b[0;32m/usr/local/lib/python3.11/dist-packages/ipykernel/kernelbase.py\u001b[0m in \u001b[0;36mraw_input\u001b[0;34m(self, prompt)\u001b[0m\n\u001b[1;32m   1175\u001b[0m                 \u001b[0;34m\"raw_input was called, but this frontend does not support input requests.\"\u001b[0m\u001b[0;34m\u001b[0m\u001b[0;34m\u001b[0m\u001b[0m\n\u001b[1;32m   1176\u001b[0m             )\n\u001b[0;32m-> 1177\u001b[0;31m         return self._input_request(\n\u001b[0m\u001b[1;32m   1178\u001b[0m             \u001b[0mstr\u001b[0m\u001b[0;34m(\u001b[0m\u001b[0mprompt\u001b[0m\u001b[0;34m)\u001b[0m\u001b[0;34m,\u001b[0m\u001b[0;34m\u001b[0m\u001b[0;34m\u001b[0m\u001b[0m\n\u001b[1;32m   1179\u001b[0m             \u001b[0mself\u001b[0m\u001b[0;34m.\u001b[0m\u001b[0m_parent_ident\u001b[0m\u001b[0;34m[\u001b[0m\u001b[0;34m\"shell\"\u001b[0m\u001b[0;34m]\u001b[0m\u001b[0;34m,\u001b[0m\u001b[0;34m\u001b[0m\u001b[0;34m\u001b[0m\u001b[0m\n",
            "\u001b[0;32m/usr/local/lib/python3.11/dist-packages/ipykernel/kernelbase.py\u001b[0m in \u001b[0;36m_input_request\u001b[0;34m(self, prompt, ident, parent, password)\u001b[0m\n\u001b[1;32m   1217\u001b[0m             \u001b[0;32mexcept\u001b[0m \u001b[0mKeyboardInterrupt\u001b[0m\u001b[0;34m:\u001b[0m\u001b[0;34m\u001b[0m\u001b[0;34m\u001b[0m\u001b[0m\n\u001b[1;32m   1218\u001b[0m                 \u001b[0;31m# re-raise KeyboardInterrupt, to truncate traceback\u001b[0m\u001b[0;34m\u001b[0m\u001b[0;34m\u001b[0m\u001b[0m\n\u001b[0;32m-> 1219\u001b[0;31m                 \u001b[0;32mraise\u001b[0m \u001b[0mKeyboardInterrupt\u001b[0m\u001b[0;34m(\u001b[0m\u001b[0;34m\"Interrupted by user\"\u001b[0m\u001b[0;34m)\u001b[0m \u001b[0;32mfrom\u001b[0m \u001b[0;32mNone\u001b[0m\u001b[0;34m\u001b[0m\u001b[0;34m\u001b[0m\u001b[0m\n\u001b[0m\u001b[1;32m   1220\u001b[0m             \u001b[0;32mexcept\u001b[0m \u001b[0mException\u001b[0m\u001b[0;34m:\u001b[0m\u001b[0;34m\u001b[0m\u001b[0;34m\u001b[0m\u001b[0m\n\u001b[1;32m   1221\u001b[0m                 \u001b[0mself\u001b[0m\u001b[0;34m.\u001b[0m\u001b[0mlog\u001b[0m\u001b[0;34m.\u001b[0m\u001b[0mwarning\u001b[0m\u001b[0;34m(\u001b[0m\u001b[0;34m\"Invalid Message:\"\u001b[0m\u001b[0;34m,\u001b[0m \u001b[0mexc_info\u001b[0m\u001b[0;34m=\u001b[0m\u001b[0;32mTrue\u001b[0m\u001b[0;34m)\u001b[0m\u001b[0;34m\u001b[0m\u001b[0;34m\u001b[0m\u001b[0m\n",
            "\u001b[0;31mKeyboardInterrupt\u001b[0m: Interrupted by user"
          ]
        }
      ]
    },
    {
      "cell_type": "code",
      "source": [
        "x = input(\" \")\n",
        "words = x.split(' ')\n",
        "dictionary = {\":)\": \"😁\", \":(\": \"🙂‍↕️\"}\n",
        "temp = \" \"\n",
        "for word in words:\n",
        "  temp += dictionary.get(word, word) + \" \"\n",
        "print(temp)\n"
      ],
      "metadata": {
        "colab": {
          "base_uri": "https://localhost:8080/",
          "height": 249
        },
        "id": "zlZbU5gWDaKq",
        "outputId": "e47d4f70-d28e-4923-f7ef-74eace5a82ed"
      },
      "execution_count": 39,
      "outputs": [
        {
          "output_type": "error",
          "ename": "TypeError",
          "evalue": "'str' object is not callable",
          "traceback": [
            "\u001b[0;31m---------------------------------------------------------------------------\u001b[0m",
            "\u001b[0;31mTypeError\u001b[0m                                 Traceback (most recent call last)",
            "\u001b[0;32m/tmp/ipython-input-1991223453.py\u001b[0m in \u001b[0;36m<cell line: 0>\u001b[0;34m()\u001b[0m\n\u001b[0;32m----> 1\u001b[0;31m \u001b[0mx\u001b[0m \u001b[0;34m=\u001b[0m \u001b[0minput\u001b[0m\u001b[0;34m(\u001b[0m\u001b[0;34m\" \"\u001b[0m\u001b[0;34m)\u001b[0m\u001b[0;34m\u001b[0m\u001b[0;34m\u001b[0m\u001b[0m\n\u001b[0m\u001b[1;32m      2\u001b[0m \u001b[0mwords\u001b[0m \u001b[0;34m=\u001b[0m \u001b[0mx\u001b[0m\u001b[0;34m.\u001b[0m\u001b[0msplit\u001b[0m\u001b[0;34m(\u001b[0m\u001b[0;34m' '\u001b[0m\u001b[0;34m)\u001b[0m\u001b[0;34m\u001b[0m\u001b[0;34m\u001b[0m\u001b[0m\n\u001b[1;32m      3\u001b[0m \u001b[0mdictionary\u001b[0m \u001b[0;34m=\u001b[0m \u001b[0;34m{\u001b[0m\u001b[0;34m\":)\"\u001b[0m\u001b[0;34m:\u001b[0m \u001b[0;34m\"😁\"\u001b[0m\u001b[0;34m,\u001b[0m \u001b[0;34m\":(\"\u001b[0m\u001b[0;34m:\u001b[0m \u001b[0;34m\"🙂‍↕️\"\u001b[0m\u001b[0;34m}\u001b[0m\u001b[0;34m\u001b[0m\u001b[0;34m\u001b[0m\u001b[0m\n\u001b[1;32m      4\u001b[0m \u001b[0mtemp\u001b[0m \u001b[0;34m=\u001b[0m \u001b[0;34m\" \"\u001b[0m\u001b[0;34m\u001b[0m\u001b[0;34m\u001b[0m\u001b[0m\n\u001b[1;32m      5\u001b[0m \u001b[0;32mfor\u001b[0m \u001b[0mword\u001b[0m \u001b[0;32min\u001b[0m \u001b[0mwords\u001b[0m\u001b[0;34m:\u001b[0m\u001b[0;34m\u001b[0m\u001b[0;34m\u001b[0m\u001b[0m\n",
            "\u001b[0;31mTypeError\u001b[0m: 'str' object is not callable"
          ]
        }
      ]
    },
    {
      "cell_type": "code",
      "source": [
        "x = strinput()"
      ],
      "metadata": {
        "colab": {
          "base_uri": "https://localhost:8080/",
          "height": 178
        },
        "id": "cTHcxm-sFOC5",
        "outputId": "2bb0995f-9a0c-4e10-ba94-f5ad3b14ae1e"
      },
      "execution_count": null,
      "outputs": [
        {
          "output_type": "error",
          "ename": "TypeError",
          "evalue": "'str' object is not callable",
          "traceback": [
            "\u001b[0;31m---------------------------------------------------------------------------\u001b[0m",
            "\u001b[0;31mTypeError\u001b[0m                                 Traceback (most recent call last)",
            "\u001b[0;32m/tmp/ipython-input-163614976.py\u001b[0m in \u001b[0;36m<cell line: 0>\u001b[0;34m()\u001b[0m\n\u001b[0;32m----> 1\u001b[0;31m \u001b[0mx\u001b[0m \u001b[0;34m=\u001b[0m \u001b[0minput\u001b[0m\u001b[0;34m(\u001b[0m\u001b[0;34m)\u001b[0m\u001b[0;34m\u001b[0m\u001b[0;34m\u001b[0m\u001b[0m\n\u001b[0m",
            "\u001b[0;31mTypeError\u001b[0m: 'str' object is not callable"
          ]
        }
      ]
    }
  ]
}